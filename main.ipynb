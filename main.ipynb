{
 "cells": [
  {
   "cell_type": "markdown",
   "metadata": {},
   "source": [
    "# 爬虫"
   ]
  },
  {
   "cell_type": "markdown",
   "metadata": {},
   "source": [
    "## 基于requests的单线程爬虫"
   ]
  },
  {
   "cell_type": "code",
   "execution_count": null,
   "metadata": {},
   "outputs": [],
   "source": [
    "from crawler.news import NewsCrawler\n",
    "crawler = NewsCrawler()"
   ]
  },
  {
   "cell_type": "code",
   "execution_count": null,
   "metadata": {},
   "outputs": [],
   "source": [
    "crawler.crawl()"
   ]
  },
  {
   "cell_type": "code",
   "execution_count": null,
   "metadata": {},
   "outputs": [],
   "source": [
    "crawler.save_data('data/cn')"
   ]
  },
  {
   "cell_type": "markdown",
   "metadata": {},
   "source": [
    "## 基于Scrapy的并发爬虫"
   ]
  },
  {
   "cell_type": "markdown",
   "metadata": {},
   "source": [
    "Scrapy 是一个非常强大的 Python 框架，用于 Web 爬虫和数据抓取。它可以轻松地爬取网站上的数据，并将其存储在所需的格式中（如 CSV、JSON 或数据库）。"
   ]
  },
  {
   "cell_type": "markdown",
   "metadata": {},
   "source": [
    "首先在项目根目录下创建名为`news_crawler`的Scrapy爬虫项目\n",
    "\n",
    "```bash\n",
    "scrapy startproject news_crawler\n",
    "```\n",
    "\n",
    "生成一个爬虫模板，稍后按本实验的需求修改：\n",
    "\n",
    "```bash\n",
    "scrapy genspider example quotes.toscrape.com\n",
    "```"
   ]
  },
  {
   "cell_type": "markdown",
   "metadata": {},
   "source": [
    "### 爬取中文数据\n",
    "通过Scrapy框架运行爬虫：\n",
    "\n",
    "```bash\n",
    "cd news_crawler\n",
    "scrapy crawl news_spider -s CLOSESPIDER_ITEMCOUNT=10000 -s OUTPUT_DIR=\"../data/cn\" -a language=\"cn\" -a start_keyword=\"新闻\"\n",
    "```"
   ]
  },
  {
   "cell_type": "markdown",
   "metadata": {},
   "source": [
    "### 爬取英文数据\n",
    "通过Scrapy框架运行爬虫，只是更换语言即可：\n",
    "\n",
    "```bash\n",
    "cd news_crawler\n",
    "scrapy crawl news_spider -s CLOSESPIDER_ITEMCOUNT=10000 -s OUTPUT_DIR=\"../data/en\" -a language=\"en\" -a start_keyword=\"China\"\n",
    "```"
   ]
  },
  {
   "cell_type": "markdown",
   "metadata": {},
   "source": [
    "# 数据处理"
   ]
  },
  {
   "cell_type": "markdown",
   "metadata": {},
   "source": [
    "## 去除乱码"
   ]
  },
  {
   "cell_type": "code",
   "execution_count": 37,
   "metadata": {},
   "outputs": [
    {
     "name": "stderr",
     "output_type": "stream",
     "text": [
      "100%|██████████| 5024/5024 [00:00<00:00, 7958.34it/s]\n"
     ]
    }
   ],
   "source": [
    "import json\n",
    "from tqdm import tqdm\n",
    "\n",
    "def wash_cn(text: str) -> str:\n",
    "    cleaned_text = ''\n",
    "    for char in text:\n",
    "        if ('\\u4e00' <= char <= '\\u9fff' or  # 中文汉字\n",
    "            # '\\u3000' <= char <= '\\u303f' or  # 中文标点符号\n",
    "            '\\u3400' <= char <= '\\u4dbf' ):  # 扩展汉字\n",
    "            # '\\u0030' <= char <= '\\u0039'   # 阿拉伯数字\n",
    "            # '\\uff00' <= char <= '\\uffef'# 全角字符和标点\n",
    "            cleaned_text += char\n",
    "    \n",
    "    return cleaned_text\n",
    "\n",
    "with open('data/cn/data.json', 'r') as f:\n",
    "    data = json.load(f)\n",
    "    \n",
    "for news in tqdm(data):\n",
    "    news['content'] = wash_cn(news['content'])\n",
    "    \n",
    "with open('data/cn/washed.json', 'w') as f:\n",
    "    json.dump(data, f, ensure_ascii=False, indent=4)"
   ]
  },
  {
   "cell_type": "code",
   "execution_count": 26,
   "metadata": {},
   "outputs": [
    {
     "name": "stderr",
     "output_type": "stream",
     "text": [
      "  0%|          | 0/924 [00:00<?, ?it/s]"
     ]
    },
    {
     "name": "stderr",
     "output_type": "stream",
     "text": [
      "100%|██████████| 924/924 [00:00<00:00, 8737.21it/s]\n"
     ]
    }
   ],
   "source": [
    "import json\n",
    "from tqdm import tqdm\n",
    "\n",
    "def wash_en(text: str) -> str:\n",
    "    cleaned_text = ''\n",
    "    parts = text.split('#')\n",
    "    text = text if len(parts) == 1 else '#'.join(parts[:-1]).strip()\n",
    "    \n",
    "    for char in text:\n",
    "        if '\\u0020' <= char <= '\\u007e': # 英文字符和常见标点\n",
    "            cleaned_text += char\n",
    "            \n",
    "    return cleaned_text\n",
    "\n",
    "with open('data/en/data.json', 'r') as f:\n",
    "    data = json.load(f)\n",
    "    \n",
    "for news in tqdm(data):\n",
    "    news['content'] = wash_en(news['content'])\n",
    "    \n",
    "with open('data/en/washed.json', 'w') as f:\n",
    "    json.dump(data, f, ensure_ascii=False, indent=4)"
   ]
  },
  {
   "cell_type": "markdown",
   "metadata": {},
   "source": [
    "## 分词"
   ]
  },
  {
   "cell_type": "markdown",
   "metadata": {},
   "source": [
    "### 中文分词\n",
    "使用jieba分词，全部文本储存在`data/cn/tokenized.txt`中。"
   ]
  },
  {
   "cell_type": "code",
   "execution_count": 38,
   "metadata": {},
   "outputs": [
    {
     "name": "stderr",
     "output_type": "stream",
     "text": [
      "100%|██████████| 5024/5024 [00:26<00:00, 192.33it/s]\n"
     ]
    }
   ],
   "source": [
    "import json\n",
    "import jieba\n",
    "from tqdm import tqdm\n",
    "\n",
    "def tokenize_cn(contents: list[dict[str, str]]) -> list[str]:\n",
    "    tokenized_results = []\n",
    "    for content in tqdm(contents):\n",
    "        words = jieba.lcut(content['content'])\n",
    "        tokenized_results.extend(words)\n",
    "    return tokenized_results\n",
    "\n",
    "with open('data/cn/washed.json', 'r') as f:\n",
    "    data = json.load(f)\n",
    "    tokenized_results = tokenize_cn(data)\n",
    "    \n",
    "with open('data/cn/tokenized.json', 'w') as f:\n",
    "    json.dump(tokenized_results, f, ensure_ascii=False, indent=4)"
   ]
  },
  {
   "cell_type": "markdown",
   "metadata": {},
   "source": [
    "### 英文分词"
   ]
  },
  {
   "cell_type": "code",
   "execution_count": 43,
   "metadata": {},
   "outputs": [
    {
     "name": "stderr",
     "output_type": "stream",
     "text": [
      "  0%|          | 0/924 [00:00<?, ?it/s]"
     ]
    },
    {
     "name": "stderr",
     "output_type": "stream",
     "text": [
      "100%|██████████| 924/924 [00:00<00:00, 45342.24it/s]\n"
     ]
    }
   ],
   "source": [
    "import json\n",
    "from tqdm import tqdm\n",
    "\n",
    "def tokenize_en(contents: list[dict[str, str]]) -> list[str]:\n",
    "    tokenized_results = []\n",
    "    for content in tqdm(contents):\n",
    "        words = content['content'].split()\n",
    "        tokenized_results.extend(words)\n",
    "    return tokenized_results\n",
    "\n",
    "with open('data/en/washed.json', 'r') as f:\n",
    "    data = json.load(f)\n",
    "    tokenized_results = tokenize_en(data)\n",
    "    \n",
    "with open('data/en/tokenized.json', 'w') as f:\n",
    "    json.dump(tokenized_results, f, ensure_ascii=False, indent=4)"
   ]
  },
  {
   "cell_type": "markdown",
   "metadata": {},
   "source": [
    "# 提取日期"
   ]
  },
  {
   "cell_type": "code",
   "execution_count": 47,
   "metadata": {},
   "outputs": [
    {
     "name": "stderr",
     "output_type": "stream",
     "text": [
      "  0%|          | 0/5024 [00:00<?, ?it/s]"
     ]
    },
    {
     "name": "stderr",
     "output_type": "stream",
     "text": [
      "100%|██████████| 5024/5024 [00:16<00:00, 299.79it/s]\n",
      "100%|██████████| 5024/5024 [00:00<00:00, 19463.79it/s]\n"
     ]
    }
   ],
   "source": [
    "import re\n",
    "from tqdm import tqdm\n",
    "\n",
    "def extract_date(text: str) -> list[str]:\n",
    "    # 使用非捕获组 (?:) 避免捕获分隔符，如 \"年\", \"月\", \"日\"\n",
    "    patterns = [\n",
    "        r'\\d{4}(?:年|-|/)\\d{1,2}(?:月|-|/)\\d{1,2}(?:日)?',  # 完整日期：YYYY-MM-DD\n",
    "        r'\\d{4}(?:年|-|/)\\d{1,2}(?:月)?',                    # 年月：YYYY-MM\n",
    "        r'\\d{1,2}(?:月|-|/)\\d{1,2}(?:日)?'                   # 月日：MM-DD\n",
    "    ]\n",
    "    \n",
    "    dates = []\n",
    "    for pattern in patterns:\n",
    "        matches = re.findall(pattern, text)\n",
    "        dates.extend(matches)\n",
    "    return dates\n",
    "\n",
    "with open('data/cn/data.json', 'r') as f:\n",
    "    data = json.load(f)\n",
    "    tokenized_results = tokenize_cn(data)\n",
    "    \n",
    "dates = []\n",
    "for news in tqdm(data):\n",
    "    dates.extend(extract_date(news['content']))\n",
    "\n",
    "with open('data/cn/dates.json', 'w') as f:\n",
    "    json.dump(dates, f, ensure_ascii=False, indent=4)"
   ]
  },
  {
   "cell_type": "markdown",
   "metadata": {},
   "source": [
    "# 验证Chef定律"
   ]
  },
  {
   "cell_type": "code",
   "execution_count": 44,
   "metadata": {},
   "outputs": [
    {
     "data": {
      "image/png": "[encoded data removed]",
      "text/plain": [
       "<Figure size 1000x500 with 2 Axes>"
      ]
     },
     "metadata": {},
     "output_type": "display_data"
    }
   ],
   "source": [
    "# Import necessary modules\n",
    "import json\n",
    "import matplotlib.pyplot as plt\n",
    "import numpy as np\n",
    "from collections import Counter\n",
    "\n",
    "# Load the tokenized JSON files for Chinese and English words\n",
    "cn_file_path = 'data/cn/tokenized.json'\n",
    "en_file_path = 'data/en/tokenized.json'\n",
    "\n",
    "with open(cn_file_path, 'r', encoding='utf-8') as cn_file:\n",
    "    cn_words = json.load(cn_file)\n",
    "\n",
    "with open(en_file_path, 'r', encoding='utf-8') as en_file:\n",
    "    en_words = json.load(en_file)\n",
    "\n",
    "# Count the frequency of each word\n",
    "cn_word_freq = Counter(cn_words)\n",
    "en_word_freq = Counter(en_words)\n",
    "\n",
    "# Sort the word frequencies in descending order\n",
    "sorted_cn_freq = sorted(cn_word_freq.items(), key=lambda x: x[1], reverse=True)\n",
    "sorted_en_freq = sorted(en_word_freq.items(), key=lambda x: x[1], reverse=True)\n",
    "\n",
    "# Get the rank (position) and frequency for Chinese and English words\n",
    "cn_ranks = np.arange(1, len(sorted_cn_freq) + 1)\n",
    "cn_frequencies = np.array([freq for word, freq in sorted_cn_freq])\n",
    "\n",
    "en_ranks = np.arange(1, len(sorted_en_freq) + 1)\n",
    "en_frequencies = np.array([freq for word, freq in sorted_en_freq])\n",
    "\n",
    "# Convert rank and frequency to log scale\n",
    "log_cn_ranks = np.log10(cn_ranks)\n",
    "log_cn_frequencies = np.log10(cn_frequencies)\n",
    "\n",
    "log_en_ranks = np.log10(en_ranks)\n",
    "log_en_frequencies = np.log10(en_frequencies)\n",
    "\n",
    "# Fit a linear model (for log-transformed data)\n",
    "cn_fit = np.polyfit(log_cn_ranks, log_cn_frequencies, 1)\n",
    "en_fit = np.polyfit(log_en_ranks, log_en_frequencies, 1)\n",
    "\n",
    "# Generate the fitted lines\n",
    "fitted_cn_frequencies = cn_fit[0] * log_cn_ranks + cn_fit[1]\n",
    "fitted_en_frequencies = en_fit[0] * log_en_ranks + en_fit[1]\n",
    "\n",
    "# Plotting log-log data and linear fits on a regular linear scale\n",
    "plt.figure(figsize=(10, 5))\n",
    "\n",
    "# Chinese words subplot\n",
    "plt.subplot(1, 2, 1)\n",
    "plt.plot(log_cn_ranks, log_cn_frequencies, label='Original Data')\n",
    "plt.plot(log_cn_ranks, fitted_cn_frequencies, linestyle='--', label=f'Fit: slope={cn_fit[0]:.2f}')\n",
    "plt.title(\"Log-Log Plot - CN\", fontsize=14)\n",
    "plt.xlabel(\"Log Rank (base 10)\", fontsize=12)\n",
    "plt.ylabel(\"Log Frequency (base 10)\", fontsize=12)\n",
    "plt.xticks(np.arange(int(min(log_cn_ranks)), int(max(log_cn_ranks)) + 1, 1))  # Set x-axis ticks\n",
    "plt.yticks(np.arange(int(min(log_cn_frequencies)), int(max(log_cn_frequencies)) + 1, 1))  # Set y-axis ticks\n",
    "plt.legend()\n",
    "plt.grid(True)\n",
    "\n",
    "# English words subplot\n",
    "plt.subplot(1, 2, 2)\n",
    "plt.plot(log_en_ranks, log_en_frequencies, label='Original Data')\n",
    "plt.plot(log_en_ranks, fitted_en_frequencies, linestyle='--', label=f'Fit: slope={en_fit[0]:.2f}')\n",
    "plt.title(\"Log-Log Plot - EN\", fontsize=14)\n",
    "plt.xlabel(\"Log Rank (base 10)\", fontsize=12)\n",
    "plt.ylabel(\"Log Frequency (base 10)\", fontsize=12)\n",
    "plt.xticks(np.arange(int(min(log_en_ranks)), int(max(log_en_ranks)) + 1, 1))  # Set x-axis ticks\n",
    "plt.yticks(np.arange(int(min(log_en_frequencies)), int(max(log_en_frequencies)) + 1, 1))  # Set y-axis ticks\n",
    "plt.legend()\n",
    "plt.grid(True)\n",
    "\n",
    "# Display the plots\n",
    "plt.tight_layout()\n",
    "plt.show()\n"
   ]
  }
 ],
 "metadata": {
  "kernelspec": {
   "display_name": "nlp",
   "language": "python",
   "name": "python3"
  },
  "language_info": {
   "codemirror_mode": {
    "name": "ipython",
    "version": 3
   },
   "file_extension": ".py",
   "mimetype": "text/x-python",
   "name": "python",
   "nbconvert_exporter": "python",
   "pygments_lexer": "ipython3",
   "version": "3.12.5"
  }
 },
 "nbformat": 4,
 "nbformat_minor": 2
}
